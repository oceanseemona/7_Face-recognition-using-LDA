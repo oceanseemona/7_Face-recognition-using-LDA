{
 "cells": [
  {
   "cell_type": "code",
   "execution_count": 1,
   "metadata": {},
   "outputs": [],
   "source": [
    "import numpy as np\n",
    "from matplotlib import pyplot as plt\n",
    "from PIL import Image\n",
    "from matplotlib import image\n",
    "import os"
   ]
  },
  {
   "cell_type": "code",
   "execution_count": 2,
   "metadata": {},
   "outputs": [],
   "source": [
    "#loading 240 images for training & 160 for testing\n",
    "\n",
    "train_image_list=[]\n",
    "test_image_list=[]\n",
    "for i in range(1,41):\n",
    "    j=1\n",
    "    s = os.listdir('s'+str(i)+'/')\n",
    "    for image in s:\n",
    "        if(j<=6):\n",
    "            im = Image.open('s'+str(i)+'/' + image)\n",
    "            train_image_list.append(np.asarray(im).flatten())\n",
    "        else:\n",
    "            im = Image.open('s'+str(i)+'/' + image)\n",
    "            test_image_list.append(np.asarray(im).flatten())\n",
    "        j+=1"
   ]
  },
  {
   "cell_type": "code",
   "execution_count": 3,
   "metadata": {},
   "outputs": [
    {
     "name": "stdout",
     "output_type": "stream",
     "text": [
      "240\n",
      "160\n"
     ]
    }
   ],
   "source": [
    "print(len(train_image_list))\n",
    "print(len(test_image_list))"
   ]
  },
  {
   "cell_type": "code",
   "execution_count": 4,
   "metadata": {},
   "outputs": [
    {
     "name": "stdout",
     "output_type": "stream",
     "text": [
      "(10304, 240)\n",
      "(10304, 1)\n",
      "...Eigen Values...\n",
      "(240, 240)\n",
      "\n",
      "...Eigen Vector...\n",
      "(240, 240)\n",
      "\n",
      "(240, 100)\n",
      "(100, 10304)\n",
      "(100, 240)\n"
     ]
    }
   ],
   "source": [
    "# 1. Generating the face dataset for training (60%)\n",
    "\n",
    "Face_Db = np.array(train_image_list).T\n",
    "print(Face_Db.shape)\n",
    "\n",
    "# 2. Mean Calculation\n",
    "\n",
    "mn,p = Face_Db.shape\n",
    "M = np.zeros((mn,1))\n",
    "for i in range(mn):\n",
    "        for j in range(p):\n",
    "            M[i] += Face_Db[i][j]\n",
    "        M[i] /= p\n",
    "print(M.shape)\n",
    "\n",
    "# 3. Do mean Zero\n",
    "\n",
    "delt = np.zeros((mn,p))\n",
    "for i in range(mn):\n",
    "    for j in range(p):\n",
    "        delt[i][j]=Face_Db[i][j]-M[i]\n",
    "\n",
    "    \n",
    "# 4. Covariance of delt (mean aligned faces)\n",
    "\n",
    "def cov(delt):\n",
    "    row,col=delt.shape\n",
    "    covm = np.zeros((col,col))        \n",
    "    for z in range(col):\n",
    "        for y in range(col):\n",
    "            covm[z][y] = (1/row) * np.dot(delt[:,y].T,delt[:,z])                   \n",
    "    return covm\n",
    "\n",
    "cov_matrix = cov(delt)\n",
    "\n",
    "# 5. eigenvalue and eigenvector decomposition (sorted)\n",
    "\n",
    "eigenValues, eigenVectors = np.linalg.eig(cov_matrix)\n",
    "idx = eigenValues.argsort()[::-1]   \n",
    "eigen_val = eigenValues[idx]\n",
    "eigen_vector = eigenVectors[:,idx]\n",
    "eigen_val = np.diag(eigen_val)\n",
    "print(\"...Eigen Values...\")\n",
    "print(eigen_val.shape)\n",
    "print()\n",
    "print(\"...Eigen Vector...\")\n",
    "print(eigen_vector.shape)\n",
    "print()\n",
    "\n",
    "# 6. Finding the best direction (Generation of feature vectors)\n",
    "\n",
    "k=100\n",
    "Feature_vector = eigen_vector[:,0:k]\n",
    "print(Feature_vector.shape)\n",
    "\n",
    "# 7. Generating Eigenfaces\n",
    "\n",
    "Eigen_faces = np.dot(Feature_vector.T,delt.T)\n",
    "print(Eigen_faces.shape)\n",
    "\n",
    "# 8. Generating Signature of Each Face\n",
    "\n",
    "Signature = np.dot(Eigen_faces,delt)\n",
    "print(Signature.shape)\n",
    "\n"
   ]
  },
  {
   "cell_type": "code",
   "execution_count": 5,
   "metadata": {},
   "outputs": [
    {
     "name": "stdout",
     "output_type": "stream",
     "text": [
      "40\n"
     ]
    }
   ],
   "source": [
    "P=len(train_image_list)\n",
    "n=6 #no. of images per person\n",
    "number_of_classes=P//n\n",
    "print(number_of_classes)"
   ]
  },
  {
   "cell_type": "code",
   "execution_count": 12,
   "metadata": {},
   "outputs": [
    {
     "name": "stdout",
     "output_type": "stream",
     "text": [
      "(240,)\n"
     ]
    }
   ],
   "source": [
    "# mean by column\n",
    "mean_each_class = Face_Db.mean(axis=0)\n",
    "print(mean_each_class.shape)"
   ]
  },
  {
   "cell_type": "code",
   "execution_count": null,
   "metadata": {},
   "outputs": [],
   "source": []
  }
 ],
 "metadata": {
  "kernelspec": {
   "display_name": "Python 3",
   "language": "python",
   "name": "python3"
  },
  "language_info": {
   "codemirror_mode": {
    "name": "ipython",
    "version": 3
   },
   "file_extension": ".py",
   "mimetype": "text/x-python",
   "name": "python",
   "nbconvert_exporter": "python",
   "pygments_lexer": "ipython3",
   "version": "3.8.5"
  }
 },
 "nbformat": 4,
 "nbformat_minor": 4
}
