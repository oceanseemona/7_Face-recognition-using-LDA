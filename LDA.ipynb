{
 "cells": [
  {
   "cell_type": "code",
   "execution_count": 1,
   "metadata": {},
   "outputs": [],
   "source": [
    "import numpy as np\n",
    "from matplotlib import pyplot as plt\n",
    "from PIL import Image\n",
    "from matplotlib import image\n",
    "import os"
   ]
  },
  {
   "cell_type": "markdown",
   "metadata": {},
   "source": [
    "## Training "
   ]
  },
  {
   "cell_type": "code",
   "execution_count": 2,
   "metadata": {},
   "outputs": [],
   "source": [
    "#loading 240 images for training & 160 for testing\n",
    "\n",
    "train_image_list=[]\n",
    "test_image_list=[]\n",
    "for i in range(1,41):\n",
    "    j=1\n",
    "    s = os.listdir('s'+str(i)+'/')\n",
    "    for image in s:\n",
    "        if(j<=6):\n",
    "            im = Image.open('s'+str(i)+'/' + image)\n",
    "            train_image_list.append(np.asarray(im).flatten())\n",
    "        else:\n",
    "            im = Image.open('s'+str(i)+'/' + image)\n",
    "            test_image_list.append(np.asarray(im).flatten())\n",
    "        j+=1"
   ]
  },
  {
   "cell_type": "code",
   "execution_count": 3,
   "metadata": {},
   "outputs": [
    {
     "name": "stdout",
     "output_type": "stream",
     "text": [
      "240\n",
      "160\n"
     ]
    }
   ],
   "source": [
    "print(len(train_image_list))\n",
    "print(len(test_image_list))"
   ]
  },
  {
   "cell_type": "code",
   "execution_count": 4,
   "metadata": {},
   "outputs": [
    {
     "name": "stdout",
     "output_type": "stream",
     "text": [
      "(10304, 240)\n",
      "(10304, 1)\n",
      "...Eigen Values...\n",
      "(240, 240)\n",
      "\n",
      "...Eigen Vector...\n",
      "(240, 240)\n",
      "\n",
      "(240, 100)\n",
      "(100, 10304)\n",
      "(100, 240)\n"
     ]
    }
   ],
   "source": [
    "# 1. Generating the face dataset for training (60%)\n",
    "\n",
    "Face_Db = np.array(train_image_list).T\n",
    "print(Face_Db.shape)\n",
    "\n",
    "# 2. Mean Calculation\n",
    "\n",
    "mn,p = Face_Db.shape\n",
    "M = np.zeros((mn,1))\n",
    "for i in range(mn):\n",
    "        for j in range(p):\n",
    "            M[i] += Face_Db[i][j]\n",
    "        M[i] /= p\n",
    "print(M.shape)\n",
    "\n",
    "# 3. Do mean Zero\n",
    "\n",
    "delt = np.zeros((mn,p))\n",
    "for i in range(mn):\n",
    "    for j in range(p):\n",
    "        delt[i][j]=Face_Db[i][j]-M[i]\n",
    "\n",
    "    \n",
    "# 4. Covariance of delt (mean aligned faces)\n",
    "\n",
    "def cov(delt):\n",
    "    row,col=delt.shape\n",
    "    covm = np.zeros((col,col))        \n",
    "    for z in range(col):\n",
    "        for y in range(col):\n",
    "            covm[z][y] = (1/row) * np.dot(delt[:,y].T,delt[:,z])                   \n",
    "    return covm\n",
    "\n",
    "cov_matrix = cov(delt)\n",
    "\n",
    "# 5. eigenvalue and eigenvector decomposition (sorted)\n",
    "\n",
    "eigenValues, eigenVectors = np.linalg.eig(cov_matrix)\n",
    "idx = eigenValues.argsort()[::-1]   \n",
    "eigen_val = eigenValues[idx]\n",
    "eigen_vector = eigenVectors[:,idx]\n",
    "eigen_val = np.diag(eigen_val)\n",
    "print(\"...Eigen Values...\")\n",
    "print(eigen_val.shape)\n",
    "print()\n",
    "print(\"...Eigen Vector...\")\n",
    "print(eigen_vector.shape)\n",
    "print()\n",
    "\n",
    "# 6. Finding the best direction (Generation of feature vectors)\n",
    "\n",
    "k=100\n",
    "Feature_vector = eigen_vector[:,0:k]\n",
    "print(Feature_vector.shape)\n",
    "\n",
    "# 7. Generating Eigenfaces\n",
    "\n",
    "Eigen_faces = np.dot(Feature_vector.T,delt.T)\n",
    "print(Eigen_faces.shape)\n",
    "\n",
    "# 8. Generating Signature of Each Face\n",
    "\n",
    "Signature = np.dot(Eigen_faces,delt)\n",
    "print(Signature.shape)\n",
    "\n"
   ]
  },
  {
   "cell_type": "code",
   "execution_count": 5,
   "metadata": {},
   "outputs": [
    {
     "name": "stdout",
     "output_type": "stream",
     "text": [
      "40\n"
     ]
    }
   ],
   "source": [
    "P=len(train_image_list)\n",
    "n=6 #no. of images per person\n",
    "number_of_classes=P//n\n",
    "print(number_of_classes)"
   ]
  },
  {
   "cell_type": "code",
   "execution_count": 6,
   "metadata": {},
   "outputs": [],
   "source": [
    "def meann(Face):\n",
    "    mn,p = Face.shape\n",
    "    M = np.zeros((mn,1))\n",
    "    for i in range(mn):\n",
    "        for j in range(p):\n",
    "            M[i] += Face[i][j]\n",
    "        M[i] /= p\n",
    "    return M\n",
    "\n",
    "def sub(X,M):\n",
    "    res = X\n",
    "    n,c = X.shape\n",
    "    \n",
    "    for i in range(n):\n",
    "        for j in range(c):\n",
    "            res[i][j] = res[i][j] - M[i]\n",
    "    \n",
    "    return res"
   ]
  },
  {
   "cell_type": "code",
   "execution_count": 7,
   "metadata": {},
   "outputs": [
    {
     "data": {
      "text/plain": [
       "(100, 40)"
      ]
     },
     "execution_count": 7,
     "metadata": {},
     "output_type": "execute_result"
    }
   ],
   "source": [
    "# 3.\n",
    "\n",
    "mean_each_class = np.zeros((k,number_of_classes))\n",
    "\n",
    "for i in range(number_of_classes):\n",
    "    pf=Signature[:,6*i:6*i+6]\n",
    "    mean_each_class[:,i] = meann(pf).T\n",
    "    \n",
    "mean_pf = meann(pf)\n",
    "mean_each_class.shape"
   ]
  },
  {
   "cell_type": "code",
   "execution_count": 8,
   "metadata": {},
   "outputs": [
    {
     "data": {
      "text/plain": [
       "(100, 1)"
      ]
     },
     "execution_count": 8,
     "metadata": {},
     "output_type": "execute_result"
    }
   ],
   "source": [
    "mean_pf.shape"
   ]
  },
  {
   "cell_type": "code",
   "execution_count": null,
   "metadata": {},
   "outputs": [],
   "source": []
  },
  {
   "cell_type": "code",
   "execution_count": 9,
   "metadata": {},
   "outputs": [
    {
     "name": "stdout",
     "output_type": "stream",
     "text": [
      "(100, 100)\n"
     ]
    }
   ],
   "source": [
    "# 4. within class scatter matrix (SW)\n",
    "\n",
    "SW = np.zeros((k,k))\n",
    "for i in range(number_of_classes):\n",
    "    Var = sub(pf,mean_each_class[:,i])\n",
    "    SW += (np.dot(Var,Var.T))\n",
    "    \n",
    "print(SW.shape)\n"
   ]
  },
  {
   "cell_type": "code",
   "execution_count": 10,
   "metadata": {},
   "outputs": [
    {
     "name": "stdout",
     "output_type": "stream",
     "text": [
      "(100, 100)\n"
     ]
    }
   ],
   "source": [
    "# Between Class Scatter Matrix\n",
    "SB = np.zeros((k,k))\n",
    "for i in range(number_of_classes):\n",
    "    M_i = np.reshape(mean_each_class[:,i],(1,mean_each_class[:,i].size)).T\n",
    "    SB += (np.dot(sub(M_i,mean_pf),M_i.T))\n",
    "\n",
    "print(SB.shape)"
   ]
  },
  {
   "cell_type": "code",
   "execution_count": 11,
   "metadata": {},
   "outputs": [
    {
     "name": "stdout",
     "output_type": "stream",
     "text": [
      "(100, 100)\n"
     ]
    }
   ],
   "source": [
    "# 5. criterion function \n",
    "\n",
    "J=np.dot(np.linalg.inv(SW),SB)\n",
    "print(J.shape)"
   ]
  },
  {
   "cell_type": "code",
   "execution_count": 12,
   "metadata": {},
   "outputs": [
    {
     "data": {
      "text/plain": [
       "(100, 100)"
      ]
     },
     "execution_count": 12,
     "metadata": {},
     "output_type": "execute_result"
    }
   ],
   "source": [
    "# 6. Eigen vector and Eigen values of the Criterion function\n",
    "\n",
    "J_eigenValues, J_eigenVectors = np.linalg.eig(J)\n",
    "idx = J_eigenValues.argsort()[::-1]   \n",
    "J_eigenValues = J_eigenValues[idx]\n",
    "J_ev = J_eigenVectors[:,idx]\n",
    "\n",
    "J_ev.shape"
   ]
  },
  {
   "cell_type": "code",
   "execution_count": 13,
   "metadata": {},
   "outputs": [],
   "source": [
    "# 7. Best principal components\n",
    "\n",
    "m = 50"
   ]
  },
  {
   "cell_type": "code",
   "execution_count": 14,
   "metadata": {},
   "outputs": [
    {
     "data": {
      "text/plain": [
       "(100, 50)"
      ]
     },
     "execution_count": 14,
     "metadata": {},
     "output_type": "execute_result"
    }
   ],
   "source": [
    "# 8. Construct feature (W) vectors of using these k bests\n",
    "\n",
    "W = J_ev[:,0:m]\n",
    "W.shape"
   ]
  },
  {
   "cell_type": "code",
   "execution_count": 15,
   "metadata": {},
   "outputs": [
    {
     "data": {
      "text/plain": [
       "(50, 240)"
      ]
     },
     "execution_count": 15,
     "metadata": {},
     "output_type": "execute_result"
    }
   ],
   "source": [
    "# 9. Generate the fisher faces (FF)\n",
    "\n",
    "FF = np.dot(W.T,Signature)\n",
    "FF.shape"
   ]
  },
  {
   "cell_type": "markdown",
   "metadata": {},
   "source": [
    "## Testing"
   ]
  },
  {
   "cell_type": "code",
   "execution_count": 16,
   "metadata": {},
   "outputs": [
    {
     "data": {
      "text/plain": [
       "(10304, 160)"
      ]
     },
     "execution_count": 16,
     "metadata": {},
     "output_type": "execute_result"
    }
   ],
   "source": [
    "# 1. Read a test image\n",
    "\n",
    "test_img=np.array(test_image_list).T\n",
    "test_img.shape"
   ]
  },
  {
   "cell_type": "code",
   "execution_count": 17,
   "metadata": {},
   "outputs": [
    {
     "name": "stdout",
     "output_type": "stream",
     "text": [
      "(10304, 160)\n"
     ]
    }
   ],
   "source": [
    "# 2. Mean zero of the test \n",
    "\n",
    "Mean_img=np.zeros((test_img.shape))\n",
    "mn,q = test_img.shape\n",
    "for i in range(mn):\n",
    "    for j in range(q):\n",
    "        Mean_img[i][j] = test_img[i][j] - M[i]\n",
    "        \n",
    "print(Mean_img.shape)"
   ]
  },
  {
   "cell_type": "code",
   "execution_count": 18,
   "metadata": {},
   "outputs": [
    {
     "data": {
      "text/plain": [
       "(100, 160)"
      ]
     },
     "execution_count": 18,
     "metadata": {},
     "output_type": "execute_result"
    }
   ],
   "source": [
    "# 3. Calculate the projected Eigen Face (PEF)\n",
    "\n",
    "PEF = np.dot(Eigen_faces,Mean_img)\n",
    "PEF.shape"
   ]
  },
  {
   "cell_type": "code",
   "execution_count": 19,
   "metadata": {},
   "outputs": [
    {
     "data": {
      "text/plain": [
       "(50, 160)"
      ]
     },
     "execution_count": 19,
     "metadata": {},
     "output_type": "execute_result"
    }
   ],
   "source": [
    "# 4. final projection (Projected Fisher Test Image)\n",
    "\n",
    "Projected_Fisher_Test_Img = np.dot(W.T,PEF)\n",
    "Projected_Fisher_Test_Img.shape"
   ]
  },
  {
   "cell_type": "code",
   "execution_count": 20,
   "metadata": {},
   "outputs": [],
   "source": [
    "# 5. Euclidean distance between each column of the Fisher Faces to the Projected_Fisher_Test_img\n",
    "\n",
    "def euclidean_dist(x1,x2):\n",
    "    dist = sum([(a - b) ** 2 for a, b in zip(x1, x2)])**0.5\n",
    "    return dist\n",
    "\n",
    "def accuracy_fun(true_cl,pred_cl):\n",
    "    count = 0\n",
    "    for i in range(len(true_cl)):\n",
    "        if(true_cl[i] == pred_cl[i]):\n",
    "            count += 1\n",
    "    accuracy_val = (count/len(true_cl))*100\n",
    "    return accuracy_val"
   ]
  },
  {
   "cell_type": "code",
   "execution_count": 34,
   "metadata": {},
   "outputs": [],
   "source": [
    "# column wise minimum distance calculation\n",
    "\n",
    "import sys\n",
    "\n",
    "true_Labels = np.arange(0,160)\n",
    "true_Labels = (true_Labels//4)\n",
    "accuracy_curve = []\n",
    "\n",
    "for m in range(0,31):\n",
    "\n",
    "    min_dist = sys.maxsize\n",
    "    distances = [0] * test_img.shape[1]\n",
    "    classes = [0] * test_img.shape[1]\n",
    "\n",
    "    for i in range (test_img.shape[1]):\n",
    "        for j in range (Face_Db.shape[1]):\n",
    "            \n",
    "            dist = euclidean_dist(Projected_Fisher_Test_Img[0:m,i],FF[0:m,j])\n",
    "            \n",
    "            if(dist < min_dist):\n",
    "                min_dist = dist\n",
    "                label = j\n",
    "\n",
    "        distances[i] = min_dist\n",
    "        classes[i] = (label//6)\n",
    "        min_dist = sys.maxsize\n",
    "\n",
    "    accuracy = accuracy_fun(true_Labels,classes)\n",
    "    accuracy_curve.append(accuracy)"
   ]
  },
  {
   "cell_type": "code",
   "execution_count": 35,
   "metadata": {
    "scrolled": true
   },
   "outputs": [
    {
     "data": {
      "image/png": "[encoded data removed]",
      "text/plain": [
       "<Figure size 432x288 with 1 Axes>"
      ]
     },
     "metadata": {
      "needs_background": "light"
     },
     "output_type": "display_data"
    }
   ],
   "source": [
    "plt.plot(np.arange(0,31), accuracy_curve, color =\"blue\")  \n",
    "plt.title(\"Accuracy Curve\")  \n",
    "plt.xlabel(\"k_value\")  \n",
    "plt.ylabel(\"Accuracy\") \n",
    "plt.show()"
   ]
  },
  {
   "cell_type": "code",
   "execution_count": null,
   "metadata": {},
   "outputs": [],
   "source": []
  }
 ],
 "metadata": {
  "kernelspec": {
   "display_name": "Python 3",
   "language": "python",
   "name": "python3"
  },
  "language_info": {
   "codemirror_mode": {
    "name": "ipython",
    "version": 3
   },
   "file_extension": ".py",
   "mimetype": "text/x-python",
   "name": "python",
   "nbconvert_exporter": "python",
   "pygments_lexer": "ipython3",
   "version": "3.8.5"
  }
 },
 "nbformat": 4,
 "nbformat_minor": 4
}
