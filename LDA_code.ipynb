{
 "cells": [
  {
   "cell_type": "code",
   "execution_count": 1,
   "metadata": {},
   "outputs": [],
   "source": [
    "import numpy as np\n",
    "from matplotlib import pyplot as plt\n",
    "from PIL import Image\n",
    "from matplotlib import image\n",
    "import os"
   ]
  },
  {
   "cell_type": "code",
   "execution_count": 2,
   "metadata": {},
   "outputs": [],
   "source": [
    "def mean_faces(X):\n",
    "    mn,p = X.shape\n",
    "    M = np.zeros((mn,1))\n",
    "    for i in range(mn):\n",
    "        for j in range(p):\n",
    "            M[i] += X[i][j]\n",
    "        M[i] /= p\n",
    "    return M\n",
    "\n",
    "def s_cov(X): \n",
    "    # Surrogate cov\n",
    "    r,c = X.shape \n",
    "    cov = np.zeros((c,c))\n",
    "    # Covariances        \n",
    "    for z in range(c):\n",
    "        for y in range(c):\n",
    "                cov[z][y] = np.dot(X[:,y].T,X[:,z])/r                \n",
    "    return cov \n",
    "\n",
    "def subtract_row(X,M):\n",
    "# Subtracts M from X row wise    \n",
    "    output = X\n",
    "    n,c = X.shape\n",
    "    for i in range(n):\n",
    "        for j in range(c):\n",
    "            output[i][j] = output[i][j] - M[i]\n",
    "    return output"
   ]
  },
  {
   "cell_type": "code",
   "execution_count": 3,
   "metadata": {},
   "outputs": [],
   "source": [
    "# loading 240 images for training & 160 for testing\n",
    "\n",
    "train_image_list = []\n",
    "test_image_list = []\n",
    "for i in range(1,41):\n",
    "    j = 1\n",
    "    arr = os.listdir('s'+str(i)+'/')\n",
    "    for img in arr:\n",
    "        if(j <= 6):\n",
    "            train_image_list.append((image.imread('s'+str(i)+'/'+img)).flatten())\n",
    "        else:\n",
    "            test_image_list.append((image.imread('s'+str(i)+'/'+img)).flatten())\n",
    "        j+=1"
   ]
  },
  {
   "cell_type": "markdown",
   "metadata": {},
   "source": [
    "## Training Phase"
   ]
  },
  {
   "cell_type": "code",
   "execution_count": 4,
   "metadata": {},
   "outputs": [],
   "source": [
    "# 1. Apply PCA\n",
    "\n",
    "# Generating the face dataset for training (60%)\n",
    "Face_Db = np.array(train_image_list).T  \n",
    "mn,p = Face_Db.shape\n",
    "\n",
    "# Mean Calculation\n",
    "M = mean_faces(Face_Db)\n",
    "\n",
    "# Do mean Zero\n",
    "delta = np.zeros((Face_Db.shape))\n",
    "for i in range(mn):\n",
    "    for j in range(p):\n",
    "        delta[i][j] = Face_Db[i][j] - M[i]\n",
    "\n",
    "# Covariance of delta (mean aligned faces)\n",
    "cov = s_cov(delta)   \n",
    "\n",
    "# eigenvalue and eigenvector decomposition (sorted)\n",
    "\n",
    "eigenValues, eigenVectors = np.linalg.eig(cov)\n",
    "idx = eigenValues.argsort()[::-1]   \n",
    "eigenValues = eigenValues[idx]\n",
    "eigenVectors = eigenVectors[:,idx]\n",
    "\n",
    "# Finding the best direction (Generation of feature vectors)\n",
    "\n",
    "k = 50\n",
    "psi = eigenVectors[:,0:k]\n",
    "\n",
    "# Generating Eigenfaces\n",
    "\n",
    "Eigen_faces = np.dot(psi.T,delta.T)\n",
    "\n",
    "# Generating Signature of Each Face\n",
    "Signature = np.dot(Eigen_faces,delta)\n",
    "#print(PF)"
   ]
  },
  {
   "cell_type": "code",
   "execution_count": 5,
   "metadata": {},
   "outputs": [
    {
     "name": "stdout",
     "output_type": "stream",
     "text": [
      "40\n"
     ]
    }
   ],
   "source": [
    "# 2. Divide the data into class\n",
    "\n",
    "P=len(train_image_list)\n",
    "n=6 #no. of images per person\n",
    "number_of_classes=P//n\n",
    "print(number_of_classes)"
   ]
  },
  {
   "cell_type": "code",
   "execution_count": 6,
   "metadata": {},
   "outputs": [],
   "source": [
    "# 3. Calculate the means of each class \n",
    "\n",
    "mean_each_class = np.zeros((k,number_of_classes))\n",
    "PF_classwise = []\n",
    "for i in range(number_of_classes):\n",
    "    mean_each_class[:,i] = mean_faces(Signature[:,6*i:6*i+6]).T\n",
    "    PF_classwise.append(Signature[:,6*i:6*i+6])\n",
    "    \n",
    "PF_classwise = np.array(PF_classwise)\n",
    "mean_PF = mean_faces(Signature)\n",
    "#print(mean_PF)"
   ]
  },
  {
   "cell_type": "code",
   "execution_count": 7,
   "metadata": {},
   "outputs": [
    {
     "data": {
      "text/plain": [
       "(50, 40)"
      ]
     },
     "execution_count": 7,
     "metadata": {},
     "output_type": "execute_result"
    }
   ],
   "source": [
    "mean_each_class.shape"
   ]
  },
  {
   "cell_type": "code",
   "execution_count": 8,
   "metadata": {},
   "outputs": [
    {
     "data": {
      "text/plain": [
       "(50, 1)"
      ]
     },
     "execution_count": 8,
     "metadata": {},
     "output_type": "execute_result"
    }
   ],
   "source": [
    "mean_PF.shape"
   ]
  },
  {
   "cell_type": "code",
   "execution_count": 9,
   "metadata": {},
   "outputs": [
    {
     "data": {
      "text/plain": [
       "(50, 50)"
      ]
     },
     "execution_count": 9,
     "metadata": {},
     "output_type": "execute_result"
    }
   ],
   "source": [
    "# 4. within class scatter matrix (SW)\n",
    "\n",
    "SW = np.zeros((k,k))\n",
    "for i in range(number_of_classes):\n",
    "    var = subtract_row(PF_classwise[i],mean_each_class[:,i])\n",
    "    SW += (np.dot(var,var.T))\n",
    "    \n",
    "SW.shape\n",
    "#print(SW)"
   ]
  },
  {
   "cell_type": "code",
   "execution_count": 10,
   "metadata": {},
   "outputs": [
    {
     "data": {
      "text/plain": [
       "(50, 50)"
      ]
     },
     "execution_count": 10,
     "metadata": {},
     "output_type": "execute_result"
    }
   ],
   "source": [
    "# Between Class Scatter Matrix\n",
    "\n",
    "SB = np.zeros((k,k))\n",
    "for i in range(number_of_classes):\n",
    "    M_i = np.reshape(mean_each_class[:,i],(1,mean_each_class[:,i].size)).T\n",
    "    SB += (np.dot(subtract_row(M_i,mean_PF),M_i.T))\n",
    "\n",
    "SB.shape\n",
    "#print(SB)\n",
    "    "
   ]
  },
  {
   "cell_type": "code",
   "execution_count": 11,
   "metadata": {},
   "outputs": [
    {
     "name": "stdout",
     "output_type": "stream",
     "text": [
      "(50, 50)\n"
     ]
    }
   ],
   "source": [
    "# 5. criterion function \n",
    "\n",
    "J=np.dot(np.linalg.inv(SW),SB)\n",
    "print(J.shape)\n",
    "#print(J)"
   ]
  },
  {
   "cell_type": "code",
   "execution_count": 12,
   "metadata": {},
   "outputs": [
    {
     "data": {
      "text/plain": [
       "(50, 50)"
      ]
     },
     "execution_count": 12,
     "metadata": {},
     "output_type": "execute_result"
    }
   ],
   "source": [
    "# 6. Eigen vector and Eigen values of the Criterion function\n",
    "\n",
    "J_eigenValues, J_eigenVectors = np.linalg.eig(J)\n",
    "idx = J_eigenValues.argsort()[::-1]   \n",
    "J_eigenValues = J_eigenValues[idx]\n",
    "J_ev = J_eigenVectors[:,idx]\n",
    "\n",
    "J_ev.shape"
   ]
  },
  {
   "cell_type": "code",
   "execution_count": 13,
   "metadata": {},
   "outputs": [],
   "source": [
    "# 7. Best principal components\n",
    "\n",
    "m = 50"
   ]
  },
  {
   "cell_type": "code",
   "execution_count": 14,
   "metadata": {},
   "outputs": [
    {
     "data": {
      "text/plain": [
       "(50, 50)"
      ]
     },
     "execution_count": 14,
     "metadata": {},
     "output_type": "execute_result"
    }
   ],
   "source": [
    "# 8. Construct feature (W) vectors of using these k bests\n",
    "\n",
    "W = J_ev[:,0:m]\n",
    "W.shape"
   ]
  },
  {
   "cell_type": "code",
   "execution_count": 15,
   "metadata": {},
   "outputs": [],
   "source": [
    "# 9. Generate the fisher faces (FF)\n",
    "\n",
    "FF = np.dot(W.T,Signature)"
   ]
  },
  {
   "cell_type": "markdown",
   "metadata": {},
   "source": [
    "## Testing Phase"
   ]
  },
  {
   "cell_type": "code",
   "execution_count": 17,
   "metadata": {},
   "outputs": [
    {
     "data": {
      "text/plain": [
       "(10304, 160)"
      ]
     },
     "execution_count": 17,
     "metadata": {},
     "output_type": "execute_result"
    }
   ],
   "source": [
    "# 1. Read a test image\n",
    "\n",
    "test_img=np.array(test_image_list).T\n",
    "test_img.shape"
   ]
  },
  {
   "cell_type": "code",
   "execution_count": 18,
   "metadata": {},
   "outputs": [
    {
     "data": {
      "text/plain": [
       "(10304, 160)"
      ]
     },
     "execution_count": 18,
     "metadata": {},
     "output_type": "execute_result"
    }
   ],
   "source": [
    "# 2. Mean zero of the test \n",
    "\n",
    "Mean_img = np.zeros((test_img.shape))\n",
    "for i in range(test_img.shape[1]):\n",
    "    Mean_img[:,i] = np.subtract(test_img[:,i],np.mean(test_img[:,i]))\n",
    "Mean_img.shape"
   ]
  },
  {
   "cell_type": "code",
   "execution_count": 19,
   "metadata": {},
   "outputs": [
    {
     "data": {
      "text/plain": [
       "(50, 160)"
      ]
     },
     "execution_count": 19,
     "metadata": {},
     "output_type": "execute_result"
    }
   ],
   "source": [
    "# 3. Calculate the projected Eigen Face (PEF)\n",
    "\n",
    "PEF = np.dot(Eigen_faces,Mean_img)\n",
    "PEF.shape\n",
    "#print(PEF)"
   ]
  },
  {
   "cell_type": "code",
   "execution_count": 20,
   "metadata": {},
   "outputs": [
    {
     "data": {
      "text/plain": [
       "(50, 160)"
      ]
     },
     "execution_count": 20,
     "metadata": {},
     "output_type": "execute_result"
    }
   ],
   "source": [
    "# 4. final projection (Projected Fisher Test Image)\n",
    "\n",
    "Projected_Fisher_Test_Img = np.dot(W.T,PEF)\n",
    "Projected_Fisher_Test_Img.shape\n",
    "#print(Projected_Fisher_Test_Img)"
   ]
  },
  {
   "cell_type": "code",
   "execution_count": 21,
   "metadata": {},
   "outputs": [],
   "source": [
    "# 5. Euclidean distance between each column of the Fisher Faces to the Projected_Fisher_Test_img\n",
    "\n",
    "def euclidean_dist(x1,x2):\n",
    "    dist = sum([(a - b) ** 2 for a, b in zip(x1, x2)])**0.5\n",
    "    return dist\n",
    "\n",
    "def accuracy_fun(true_cl,pred_cl):\n",
    "    count = 0\n",
    "    for i in range(len(true_cl)):\n",
    "        if(true_cl[i] == pred_cl[i]):\n",
    "            count += 1\n",
    "    accuracy_val = (count/len(true_cl))*100\n",
    "    return accuracy_val"
   ]
  },
  {
   "cell_type": "code",
   "execution_count": 29,
   "metadata": {},
   "outputs": [],
   "source": [
    "# column wise minimum distance calculation\n",
    "\n",
    "import sys\n",
    "\n",
    "true_Labels = np.arange(0,160)\n",
    "true_Labels = (true_Labels//4)\n",
    "accuracy_curve = []\n",
    "\n",
    "for m in range(0,31):\n",
    "\n",
    "    min_dist = sys.maxsize\n",
    "    distances = [0] * test_img.shape[1]\n",
    "    classes = [0] * test_img.shape[1]\n",
    "\n",
    "    for i in range (Projected_Fisher_Test_Img.shape[1]):\n",
    "        for j in range (FF.shape[1]):\n",
    "            \n",
    "            dist = euclidean_dist(Projected_Fisher_Test_Img[0:m,i],FF[0:m,j])\n",
    "            \n",
    "            if(dist < min_dist):\n",
    "                min_dist = dist\n",
    "                label = j\n",
    "\n",
    "        distances[i] = min_dist\n",
    "        classes[i] = (label//6)\n",
    "        min_dist = sys.maxsize\n",
    "\n",
    "    accuracy = accuracy_fun(true_Labels,classes)\n",
    "    accuracy_curve.append(accuracy)\n",
    "    "
   ]
  },
  {
   "cell_type": "code",
   "execution_count": 30,
   "metadata": {},
   "outputs": [
    {
     "data": {
      "image/png": "[encoded data removed]",
      "text/plain": [
       "<Figure size 432x288 with 1 Axes>"
      ]
     },
     "metadata": {
      "needs_background": "light"
     },
     "output_type": "display_data"
    }
   ],
   "source": [
    "plt.plot(np.arange(0,31), accuracy_curve, color =\"blue\")  \n",
    "plt.title(\"Accuracy Curve\")  \n",
    "plt.xlabel(\"m_val\")  \n",
    "plt.ylabel(\"Accuracy Percentage\") \n",
    "plt.show()"
   ]
  },
  {
   "cell_type": "markdown",
   "metadata": {},
   "source": [
    "# Observation"
   ]
  },
  {
   "cell_type": "markdown",
   "metadata": {},
   "source": [
    "### In this case, where the dataset of 40 person consists of 10 images each , we observed that PCA performs better than LDA because the number of samples per class is less.\n",
    "\n",
    "### But for large dataset, LDA will provide better face recognition than PCA."
   ]
  },
  {
   "cell_type": "code",
   "execution_count": null,
   "metadata": {},
   "outputs": [],
   "source": []
  }
 ],
 "metadata": {
  "kernelspec": {
   "display_name": "Python 3",
   "language": "python",
   "name": "python3"
  },
  "language_info": {
   "codemirror_mode": {
    "name": "ipython",
    "version": 3
   },
   "file_extension": ".py",
   "mimetype": "text/x-python",
   "name": "python",
   "nbconvert_exporter": "python",
   "pygments_lexer": "ipython3",
   "version": "3.8.5"
  }
 },
 "nbformat": 4,
 "nbformat_minor": 4
}
