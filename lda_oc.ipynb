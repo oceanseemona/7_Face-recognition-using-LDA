{
 "cells": [
  {
   "cell_type": "code",
   "execution_count": 1,
   "metadata": {},
   "outputs": [],
   "source": [
    "import numpy as np\n",
    "from matplotlib import pyplot as plt\n",
    "from PIL import Image\n",
    "from matplotlib import image\n",
    "import os"
   ]
  },
  {
   "cell_type": "code",
   "execution_count": 2,
   "metadata": {},
   "outputs": [],
   "source": [
    "# loading 240 images for training & 160 for testing\n",
    "train_images = []\n",
    "test_images = []\n",
    "for i in range(1,41):\n",
    "    j = 1\n",
    "    arr = os.listdir('s'+str(i)+'/')\n",
    "    for img in arr:\n",
    "        if(j <= 6):\n",
    "            train_images.append((image.imread('s'+str(i)+'/'+img)).flatten())\n",
    "        else:\n",
    "            test_images.append((image.imread('s'+str(i)+'/'+img)).flatten())\n",
    "        j+=1"
   ]
  },
  {
   "cell_type": "code",
   "execution_count": 3,
   "metadata": {},
   "outputs": [],
   "source": [
    "def mean_faces(X):\n",
    "    mn,p = X.shape\n",
    "    M = np.zeros((mn,1))\n",
    "    for i in range(mn):\n",
    "        for j in range(p):\n",
    "            M[i] += X[i][j]\n",
    "        M[i] /= p\n",
    "    return M"
   ]
  },
  {
   "cell_type": "code",
   "execution_count": 4,
   "metadata": {},
   "outputs": [],
   "source": [
    "def s_cov(X): \n",
    "    # Surrogate cov\n",
    "    r,c = X.shape \n",
    "    cov = np.zeros((c,c))\n",
    "    # Covariances        \n",
    "    for z in range(c):\n",
    "        for y in range(c):\n",
    "                cov[z][y] = np.dot(X[:,y].T,X[:,z])/r                \n",
    "    return cov "
   ]
  },
  {
   "cell_type": "code",
   "execution_count": 5,
   "metadata": {},
   "outputs": [],
   "source": [
    "def subtract_row(X,M):\n",
    "# Subtracts M from X row wise    \n",
    "    output = X\n",
    "    n,c = X.shape\n",
    "    for i in range(n):\n",
    "        for j in range(c):\n",
    "            output[i][j] = output[i][j] - M[i]\n",
    "    return output\n",
    "    "
   ]
  },
  {
   "cell_type": "markdown",
   "metadata": {},
   "source": [
    "## Training Phase"
   ]
  },
  {
   "cell_type": "markdown",
   "metadata": {},
   "source": [
    "### Step 1 Apply PCA"
   ]
  },
  {
   "cell_type": "code",
   "execution_count": 6,
   "metadata": {},
   "outputs": [],
   "source": [
    "# 1. Generating the face dataset for training (60%)\n",
    "Face_Db = np.array(train_images).T  \n",
    "mn,p = Face_Db.shape\n",
    "\n",
    "# 2. Mean Calculation\n",
    "M = mean_faces(Face_Db)\n",
    "\n",
    "# 3. Do mean Zero\n",
    "delta = np.zeros((Face_Db.shape))\n",
    "for i in range(mn):\n",
    "    for j in range(p):\n",
    "        delta[i][j] = Face_Db[i][j] - M[i]\n",
    "\n",
    "# 4. Covariance of delta (mean aligned faces)\n",
    "cov = s_cov(delta)   \n",
    "\n",
    "# 5. eigenvalue and eigenvector decomposition (sorted)\n",
    "\n",
    "eigenValues, eigenVectors = np.linalg.eig(cov)\n",
    "idx = eigenValues.argsort()[::-1]   \n",
    "eigenValues = eigenValues[idx]\n",
    "eigenVectors = eigenVectors[:,idx]\n",
    "\n",
    "# 6. Finding the best direction (Generation of feature vectors)\n",
    "\n",
    "k = 50\n",
    "psi = eigenVectors[:,0:k]\n",
    "\n",
    "# 7. Generating Eigenfaces\n",
    "\n",
    "EigenFaces = np.dot(psi.T,delta.T)\n",
    "\n",
    "# 8. Generating Signature of Each Face\n",
    "PF = np.dot(EigenFaces,delta)\n",
    "#print(PF)"
   ]
  },
  {
   "cell_type": "markdown",
   "metadata": {},
   "source": [
    "### Step 2 Divide data into classes"
   ]
  },
  {
   "cell_type": "code",
   "execution_count": 7,
   "metadata": {},
   "outputs": [],
   "source": [
    "n = 6\n",
    "number_of_classes = p//n"
   ]
  },
  {
   "cell_type": "markdown",
   "metadata": {},
   "source": [
    "### Step 3 Find means of each class and mean of Projected Faces"
   ]
  },
  {
   "cell_type": "code",
   "execution_count": 8,
   "metadata": {},
   "outputs": [],
   "source": [
    "mean_each_class = np.zeros((k,number_of_classes))\n",
    "PF_classwise = []\n",
    "for i in range(number_of_classes):\n",
    "    mean_each_class[:,i] = mean_faces(PF[:,6*i:6*i+6]).T\n",
    "    PF_classwise.append(PF[:,6*i:6*i+6])\n",
    "    \n",
    "PF_classwise = np.array(PF_classwise)\n",
    "mean_PF = mean_faces(PF)\n",
    "#print(mean_PF)"
   ]
  },
  {
   "cell_type": "code",
   "execution_count": 9,
   "metadata": {},
   "outputs": [
    {
     "data": {
      "text/plain": [
       "(50, 40)"
      ]
     },
     "execution_count": 9,
     "metadata": {},
     "output_type": "execute_result"
    }
   ],
   "source": [
    "mean_each_class.shape"
   ]
  },
  {
   "cell_type": "code",
   "execution_count": 10,
   "metadata": {},
   "outputs": [
    {
     "data": {
      "text/plain": [
       "(50, 1)"
      ]
     },
     "execution_count": 10,
     "metadata": {},
     "output_type": "execute_result"
    }
   ],
   "source": [
    "mean_PF.shape"
   ]
  },
  {
   "cell_type": "markdown",
   "metadata": {},
   "source": [
    "### Step 4: Within Class Scatter Matrix $(SW)_{k*k}$ and Between Class Scatter Matrix $(SB)_{k*k}$"
   ]
  },
  {
   "cell_type": "code",
   "execution_count": 11,
   "metadata": {},
   "outputs": [
    {
     "data": {
      "text/plain": [
       "(50, 50)"
      ]
     },
     "execution_count": 11,
     "metadata": {},
     "output_type": "execute_result"
    }
   ],
   "source": [
    "# Within Class Scatter Matrix\n",
    "SW = np.zeros((k,k))\n",
    "for i in range(number_of_classes):\n",
    "    V_mu = subtract_row(PF_classwise[i],mean_each_class[:,i])\n",
    "    SW += (np.dot(V_mu,V_mu.T))\n",
    "    \n",
    "SW.shape\n",
    "#print(SW)"
   ]
  },
  {
   "cell_type": "code",
   "execution_count": 12,
   "metadata": {},
   "outputs": [
    {
     "data": {
      "text/plain": [
       "(50, 50)"
      ]
     },
     "execution_count": 12,
     "metadata": {},
     "output_type": "execute_result"
    }
   ],
   "source": [
    "# Between Class Scatter Matrix\n",
    "SB = np.zeros((k,k))\n",
    "for i in range(number_of_classes):\n",
    "    M_i = np.reshape(mean_each_class[:,i],(1,mean_each_class[:,i].size)).T\n",
    "    SB += (np.dot(subtract_row(M_i,mean_PF),M_i.T))\n",
    "\n",
    "SB.shape\n",
    "#print(SB)\n",
    "    "
   ]
  },
  {
   "cell_type": "markdown",
   "metadata": {},
   "source": [
    "### Step 5: Criterion Function (J)"
   ]
  },
  {
   "cell_type": "code",
   "execution_count": 13,
   "metadata": {},
   "outputs": [
    {
     "data": {
      "text/plain": [
       "(50, 50)"
      ]
     },
     "execution_count": 13,
     "metadata": {},
     "output_type": "execute_result"
    }
   ],
   "source": [
    "J = (np.dot(np.linalg.inv(SW),SB))\n",
    "J.shape\n",
    "#print(J)"
   ]
  },
  {
   "cell_type": "markdown",
   "metadata": {},
   "source": [
    "### Step 6: Eigen Vector and Values of Criterion Function"
   ]
  },
  {
   "cell_type": "code",
   "execution_count": 14,
   "metadata": {},
   "outputs": [
    {
     "data": {
      "text/plain": [
       "(50, 50)"
      ]
     },
     "execution_count": 14,
     "metadata": {},
     "output_type": "execute_result"
    }
   ],
   "source": [
    "J_eigenValues, J_eigenVectors = np.linalg.eig(J)\n",
    "idx = J_eigenValues.argsort()[::-1]   \n",
    "J_eigenValues = J_eigenValues[idx]\n",
    "J_ev = J_eigenVectors[:,idx]\n",
    "\n",
    "J_ev.shape"
   ]
  },
  {
   "cell_type": "markdown",
   "metadata": {},
   "source": [
    "### Step 7: Best Principle Component"
   ]
  },
  {
   "cell_type": "code",
   "execution_count": 15,
   "metadata": {},
   "outputs": [],
   "source": [
    "# setting m\n",
    "m = 50"
   ]
  },
  {
   "cell_type": "markdown",
   "metadata": {},
   "source": [
    "### Step 8: Feature$(W)_{k*m}$"
   ]
  },
  {
   "cell_type": "code",
   "execution_count": 16,
   "metadata": {},
   "outputs": [
    {
     "data": {
      "text/plain": [
       "(50, 50)"
      ]
     },
     "execution_count": 16,
     "metadata": {},
     "output_type": "execute_result"
    }
   ],
   "source": [
    "W = J_ev[:,0:m]\n",
    "W.shape\n",
    "#print(W)"
   ]
  },
  {
   "cell_type": "markdown",
   "metadata": {},
   "source": [
    "### Step 9: Fisher Faces (FF) "
   ]
  },
  {
   "cell_type": "code",
   "execution_count": 17,
   "metadata": {},
   "outputs": [
    {
     "data": {
      "text/plain": [
       "(50, 240)"
      ]
     },
     "execution_count": 17,
     "metadata": {},
     "output_type": "execute_result"
    }
   ],
   "source": [
    "FF = np.dot(W.T,PF)\n",
    "FF.shape\n",
    "#print(FF)"
   ]
  },
  {
   "cell_type": "code",
   "execution_count": 18,
   "metadata": {},
   "outputs": [],
   "source": [
    "def accuracy_rate(trueClass,predictedClass):\n",
    "    count = 0\n",
    "    for i in range(len(trueClass)):\n",
    "        if(trueClass[i] == predictedClass[i]):\n",
    "            count += 1\n",
    "    accuracy = (count/len(trueClass))*100\n",
    "    return accuracy"
   ]
  },
  {
   "cell_type": "code",
   "execution_count": 19,
   "metadata": {},
   "outputs": [],
   "source": [
    "def euclidean_distance(p1,p2):\n",
    "    distance = pow(sum([(a - b) ** 2 for a, b in zip(p1, p2)]),0.5)\n",
    "    return distance"
   ]
  },
  {
   "cell_type": "code",
   "execution_count": 20,
   "metadata": {},
   "outputs": [],
   "source": [
    "def mahalanobis_distance(p1,p2,X):\n",
    "    \n",
    "    distance = np.dot(np.dot((p1-p2),np.linalg.inv(s_cov(X))),(p1-p2).T)\n",
    "    return distance"
   ]
  },
  {
   "cell_type": "markdown",
   "metadata": {},
   "source": [
    "## Testing Phase"
   ]
  },
  {
   "cell_type": "code",
   "execution_count": 21,
   "metadata": {},
   "outputs": [],
   "source": [
    "test_Db = np.array(test_images).T  \n",
    "mn,q = test_Db.shape"
   ]
  },
  {
   "cell_type": "markdown",
   "metadata": {},
   "source": [
    "### Step 2: Mean Zero"
   ]
  },
  {
   "cell_type": "code",
   "execution_count": 22,
   "metadata": {},
   "outputs": [
    {
     "data": {
      "text/plain": [
       "(10304, 160)"
      ]
     },
     "execution_count": 22,
     "metadata": {},
     "output_type": "execute_result"
    }
   ],
   "source": [
    "M_t = np.zeros((mn,q))\n",
    "for i in range(q):\n",
    "    M_t[:,i] = np.subtract(test_Db[:,i],np.mean(test_Db[:,i]))\n",
    "M_t.shape"
   ]
  },
  {
   "cell_type": "markdown",
   "metadata": {},
   "source": [
    "### Step 3: Projected Eigen Faces"
   ]
  },
  {
   "cell_type": "code",
   "execution_count": 23,
   "metadata": {},
   "outputs": [
    {
     "data": {
      "text/plain": [
       "(50, 160)"
      ]
     },
     "execution_count": 23,
     "metadata": {},
     "output_type": "execute_result"
    }
   ],
   "source": [
    "PEF = np.dot(EigenFaces,M_t)\n",
    "PEF.shape\n",
    "#print(PEF)"
   ]
  },
  {
   "cell_type": "markdown",
   "metadata": {},
   "source": [
    "### Step 4: Projected Fisher Test Image"
   ]
  },
  {
   "cell_type": "code",
   "execution_count": 24,
   "metadata": {},
   "outputs": [
    {
     "data": {
      "text/plain": [
       "(50, 160)"
      ]
     },
     "execution_count": 24,
     "metadata": {},
     "output_type": "execute_result"
    }
   ],
   "source": [
    "Projected_Fisher_Test_Img = np.dot(W.T,PEF)\n",
    "Projected_Fisher_Test_Img.shape\n",
    "#print(Projected_Fisher_Test_Img)"
   ]
  },
  {
   "cell_type": "markdown",
   "metadata": {},
   "source": [
    "### Step 5: Classification"
   ]
  },
  {
   "cell_type": "code",
   "execution_count": 25,
   "metadata": {},
   "outputs": [],
   "source": [
    "# true labels\n",
    "trueLabels = np.arange(0,160)\n",
    "trueLabels = (trueLabels//4)\n",
    "accuracyCurve = []\n",
    "\n",
    "for m in range(1,51):\n",
    "\n",
    "    # minimum distance\n",
    "    min_dist = 999999999\n",
    "\n",
    "    distances = [0]*q\n",
    "    predictedLabels = [0]*q\n",
    "\n",
    "    for i in range(Projected_Fisher_Test_Img.shape[1]):\n",
    "        for j in range(FF.shape[1]):\n",
    "            dist = euclidean_distance(Projected_Fisher_Test_Img[0:m,i],FF[0:m,j])\n",
    "            if(dist < min_dist):\n",
    "                min_dist = dist\n",
    "                label = j\n",
    "\n",
    "        distances[i] = min_dist\n",
    "        predictedLabels[i] = (label//6)\n",
    "        min_dist = 99999999\n",
    "\n",
    "    accuracy = accuracy_rate(trueLabels,predictedLabels)\n",
    "    accuracyCurve.append(accuracy)\n",
    "    \n",
    "   "
   ]
  },
  {
   "cell_type": "code",
   "execution_count": 29,
   "metadata": {},
   "outputs": [
    {
     "data": {
      "image/png": "[encoded data removed]",
      "text/plain": [
       "<Figure size 432x288 with 1 Axes>"
      ]
     },
     "metadata": {
      "needs_background": "light"
     },
     "output_type": "display_data"
    }
   ],
   "source": [
    "plt.plot(np.arange(1,51), accuracyCurve, color =\"blue\")  \n",
    "plt.title(\"Accuracy Curve\")  \n",
    "plt.xlabel(\"m\")  \n",
    "plt.ylabel(\"Accuracy Percentage\") \n",
    "plt.show()"
   ]
  },
  {
   "cell_type": "code",
   "execution_count": 27,
   "metadata": {},
   "outputs": [
    {
     "name": "stderr",
     "output_type": "stream",
     "text": [
      "<ipython-input-4-3a1cfdcad7e2>:8: ComplexWarning: Casting complex values to real discards the imaginary part\n",
      "  cov[z][y] = np.dot(X[:,y].T,X[:,z])/r\n"
     ]
    }
   ],
   "source": [
    "# true labels\n",
    "trueLabels2 = np.arange(0,160)\n",
    "trueLabels2 = (trueLabels//4)\n",
    "accuracyCurve2 = []\n",
    "\n",
    "for m in range(1,6):\n",
    "\n",
    "    # minimum distance\n",
    "    min_dist = 999999999\n",
    "\n",
    "    distances = [0]*q\n",
    "    predictedLabels2 = [0]*q\n",
    "\n",
    "    for i in range(Projected_Fisher_Test_Img.shape[1]):\n",
    "        for j in range(FF.shape[1]):\n",
    "            dist = mahalanobis_distance(Projected_Fisher_Test_Img[0:m,i],FF[0:m,j],FF[:,0:m])\n",
    "            if(dist < min_dist):\n",
    "                min_dist = dist\n",
    "                label = j\n",
    "\n",
    "        distances[i] = min_dist\n",
    "        predictedLabels2[i] = (label//6) # each person testset contains 4 images\n",
    "        min_dist = 99999999\n",
    "\n",
    "    accuracy = accuracy_rate(trueLabels2,predictedLabels2)\n",
    "    accuracyCurve2.append(accuracy)"
   ]
  },
  {
   "cell_type": "code",
   "execution_count": 30,
   "metadata": {},
   "outputs": [
    {
     "data": {
      "image/png": "[encoded data removed]",
      "text/plain": [
       "<Figure size 432x288 with 1 Axes>"
      ]
     },
     "metadata": {
      "needs_background": "light"
     },
     "output_type": "display_data"
    }
   ],
   "source": [
    "plt.plot(np.arange(1,6), accuracyCurve2, color =\"blue\")  \n",
    "plt.title(\"Accuracy Curve\")  \n",
    "plt.xlabel(\"m\")  \n",
    "plt.ylabel(\"Accuracy Percentage\") \n",
    "plt.show()"
   ]
  },
  {
   "cell_type": "code",
   "execution_count": null,
   "metadata": {},
   "outputs": [],
   "source": []
  }
 ],
 "metadata": {
  "kernelspec": {
   "display_name": "Python 3",
   "language": "python",
   "name": "python3"
  },
  "language_info": {
   "codemirror_mode": {
    "name": "ipython",
    "version": 3
   },
   "file_extension": ".py",
   "mimetype": "text/x-python",
   "name": "python",
   "nbconvert_exporter": "python",
   "pygments_lexer": "ipython3",
   "version": "3.8.5"
  }
 },
 "nbformat": 4,
 "nbformat_minor": 4
}
